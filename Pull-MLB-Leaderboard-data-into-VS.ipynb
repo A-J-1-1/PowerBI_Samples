{
 "cells": [
  {
   "cell_type": "code",
   "execution_count": 2,
   "metadata": {},
   "outputs": [
    {
     "name": "stdout",
     "output_type": "stream",
     "text": [
      "Dataframe saved to \player-batting-MLB2024-fangraphs-leaderboards.csv\n"
     ]
    }
   ],
   "source": [
    "import pandas as pd\n",
    "import openpyxl\n",
    "\n",
    "# Define the file path for the Excel file\n",
    "file_path = r'\player-batting-MLB2024-fangraphs-leaderboards.xlsx'\n",
    "\n",
    "# Read the Excel file into a dataframe\n",
    "df = pd.read_excel(file_path)\n",
    "\n",
    "# Display the first few rows of the dataframe\n",
    "df.head()\n",
    "\n",
    "# Define the file path for the CSV file\n",
    "csv_file_path = r'\player-batting-MLB2024-fangraphs-leaderboards.csv'\n",
    "\n",
    "# Save the dataframe to a CSV file\n",
    "df.to_csv(csv_file_path, index=False)\n",
    "\n",
    "print(f\"Dataframe saved to {csv_file_path}\")"
   ]
  },
  {
   "cell_type": "code",
   "execution_count": 5,
   "metadata": {},
   "outputs": [
    {
     "name": "stdout",
     "output_type": "stream",
     "text": [
      "                 Name   Team    G   PA  HR    R  RBI  SB       BB%        K%  \\\n",
      "0       Shohei Ohtani    LAD  159  731  54  134  130  59  0.110807  0.221614   \n",
      "1        José Ramírez    CLE  158  682  39  114  118  41  0.079179  0.120235   \n",
      "2    Gunnar Henderson    BAL  159  719  37  118   92  21  0.108484  0.221140   \n",
      "3    Francisco Lindor    NYM  152  689  33  107   91  29  0.081277  0.184325   \n",
      "4      Bobby Witt Jr.    KCR  161  709  32  125  109  31  0.080395  0.149506   \n",
      "5        Willy Adames    MIL  161  688  32   93  112  21  0.107558  0.251453   \n",
      "6     Elly De La Cruz    CIN  160  696  25  105   76  67  0.099138  0.313218   \n",
      "7   Jazz Chisholm Jr.  - - -  147  621  24   74   73  40  0.085346  0.244767   \n",
      "8       Brenton Doyle    COL  149  603  23   82   72  30  0.076285  0.253731   \n",
      "9           Zach Neto    LAA  155  602  23   70   77  30  0.064784  0.232558   \n",
      "10     Corbin Carroll    ARI  158  684  22  121   74  35  0.106725  0.190058   \n",
      "11       Jarren Duran    BOS  160  735  21  111   75  34  0.073469  0.217687   \n",
      "12    Jackson Chourio    MIL  148  573  21   80   79  22  0.068063  0.211169   \n",
      "13         Oneil Cruz    PIT  146  599  21   72   76  22  0.085142  0.302170   \n",
      "\n",
      "    ...      wOBA  xwOBA        wRC+        BsR        Off        Def  \\\n",
      "0   ...  0.430549  0.442  181.154144   9.750306  80.690009 -17.175924   \n",
      "1   ...  0.364276  0.329  141.273363   6.306070  38.513779   1.319518   \n",
      "2   ...  0.381465  0.374  154.745048   3.965942  49.003967   4.714045   \n",
      "3   ...  0.362886  0.379  137.427242   3.997490  34.834222  17.421959   \n",
      "4   ...  0.409738  0.407  167.540347   4.527374  59.319118  17.528981   \n",
      "5   ...  0.341932  0.339  119.438004   1.234154  17.226103   5.927154   \n",
      "6   ...  0.348648  0.328  117.856215   7.479994  22.341401  16.737037   \n",
      "7   ...  0.327297  0.316  109.568299   6.160513  12.949519   4.974456   \n",
      "8   ...  0.327981  0.329   97.315415   5.354367   3.418588  12.051646   \n",
      "9   ...  0.329956  0.317  114.116711   1.793801  11.517592   2.198725   \n",
      "10  ...  0.324860  0.324  106.685075  11.110288  16.578227  -0.253713   \n",
      "11  ...  0.356867  0.342  129.022927   8.364949  32.773059   7.921176   \n",
      "12  ...  0.338550  0.328  117.161608   3.954801  15.713896   3.098121   \n",
      "13  ...  0.331016  0.340  109.876358   5.266266  12.340590   1.749355   \n",
      "\n",
      "          WAR          NameASCII  PlayerId  MLBAMID  \n",
      "0    9.073683      Shohei Ohtani     19755   660271  \n",
      "1    6.461894       Jose Ramirez     13510   608070  \n",
      "2    8.023260   Gunnar Henderson     26289   683002  \n",
      "3    7.766544   Francisco Lindor     12916   596019  \n",
      "4   10.377655     Bobby Witt Jr.     25764   677951  \n",
      "5    4.757421       Willy Adames     15986   642715  \n",
      "6    6.429652    Elly De La Cruz     26668   682829  \n",
      "7    3.987604  Jazz Chisholm Jr.     20454   665862  \n",
      "8    3.671599      Brenton Doyle     25479   686668  \n",
      "9    3.489166          Zach Neto     31347   687263  \n",
      "10   4.038407     Corbin Carroll     25878   682998  \n",
      "11   6.733279       Jarren Duran     24617   680776  \n",
      "12   3.913554    Jackson Chourio     28806   694192  \n",
      "13   3.515289         Oneil Cruz     21711   665833  \n",
      "\n",
      "[14 rows x 25 columns]\n"
     ]
    }
   ],
   "source": [
    "import pandas as pd\n",
    "import sqlite3\n",
    "\n",
    "# Define the file path for the CSV file\n",
    "csv_file_path = r'\player-batting-MLB2024-fangraphs-leaderboards.csv'\n",
    "\n",
    "# Load the CSV file into a pandas dataframe\n",
    "df = pd.read_csv(csv_file_path)\n",
    "\n",
    "# Create an in-memory SQLite database\n",
    "conn = sqlite3.connect(':memory:')\n",
    "cursor = conn.cursor()\n",
    "\n",
    "# Load the dataframe into the SQLite database\n",
    "df.to_sql('player_batting', conn, index=False, if_exists='replace')\n",
    "\n",
    "# Define an SQL query to run against the table\n",
    "sql_query = \"\"\"\n",
    "SELECT * FROM player_batting\n",
    "WHERE HR > 20\n",
    "AND SB > 20\n",
    "ORDER BY HR DESC\n",
    "\"\"\"\n",
    "\n",
    "# Execute the SQL query\n",
    "result_df = pd.read_sql_query(sql_query, conn)\n",
    "\n",
    "# Display the result of the SQL query\n",
    "print(result_df)\n",
    "\n",
    "# Close the database connection\n",
    "conn.close()"
   ]
  }
 ],
 "metadata": {
  "kernelspec": {
   "display_name": "Python 3",
   "language": "python",
   "name": "python3"
  },
  "language_info": {
   "codemirror_mode": {
    "name": "ipython",
    "version": 3
   },
   "file_extension": ".py",
   "mimetype": "text/x-python",
   "name": "python",
   "nbconvert_exporter": "python",
   "pygments_lexer": "ipython3",
   "version": "3.13.2"
  }
 },
 "nbformat": 4,
 "nbformat_minor": 2
}
